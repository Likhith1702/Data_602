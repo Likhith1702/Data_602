{
 "cells": [
  {
   "cell_type": "markdown",
   "id": "f10153d9",
   "metadata": {},
   "source": [
    "## Introduction"
   ]
  },
  {
   "cell_type": "markdown",
   "id": "26f9ec10",
   "metadata": {},
   "source": [
    "It can be said that in any country, felonies are common no matter how developed or rich a country is. Criminals are subjected to the punishment that they are due. While reforming a society, correction facilities with proper guidelines are necessary. The Texas Department of Criminal Justice (TDCJ) looks after inmates in state prisons, state jails, and private prisons that work with the TDCJ. It is in charge of making sure that inmates who are released from prison on parole or mandatory supervision are being properly watched. My objective is to predict the parole decision for an inmate based on age, projected release date, Maximum Sentence, Race, Sentence date, Gender and Offence."
   ]
  },
  {
   "cell_type": "markdown",
   "id": "bc89b04e",
   "metadata": {},
   "source": [
    "## Objective: \n",
    "To predict Parole acceptance with the data based on sentence type, age, Gender, Offence, Race, Sentence "
   ]
  },
  {
   "cell_type": "markdown",
   "id": "5dfeb953",
   "metadata": {},
   "source": [
    "## Dataset Description:\n",
    "This is a dataset that has onhand inmate population with relevent demographic offence and parol information from texas department of crimal justice. "
   ]
  },
  {
   "cell_type": "markdown",
   "id": "2ca17941",
   "metadata": {},
   "source": [
    "### Dataset Link: https://data.texas.gov/dataset/High-Value-Dataset-January-2022/y6p5-x3b9"
   ]
  },
  {
   "cell_type": "markdown",
   "id": "128cd4ba",
   "metadata": {},
   "source": [
    "### Columns in Dataset:\n",
    "\n",
    "#### SID Number :\n",
    "State Identification number that has been assigned to an individual whose fingerprints have been recorded. \n",
    "#### TDCJ Number:\n",
    "A number provided by Texas Department of Criminal Justice to keep track of inmates housed in their jails by their loved ones. \n",
    "#### Name:\n",
    "Name of the inmates \n",
    "#### Current Facility:\n",
    "Facility where an inmates is housed by TDCJ\n",
    "#### Gender:\n",
    "Gender of inmate\n",
    "#### Race:\n",
    "Race of inmate\n",
    "#### Age:\n",
    "Age of inmate\n",
    "#### Projected Release: \n",
    "Projected Date on which the inmate could be released\n",
    "#### Maximum Sentence Date:\n",
    "The date until when an individual is supposed to be in the jail as decided by court of law\n",
    "#### Parole Eligibility Date:\n",
    "Date when an individual can apply for his parole\n",
    "#### Case Number:\n",
    "An unique number that is assigned to a case\n",
    "#### County:\n",
    "Area where the crime took place\n",
    "#### Offense Code:\n",
    "An unique identifier with which police identifies the crime \n",
    "#### TDCJ Offense:\n",
    "Description of offense\n",
    "#### Sentence Date:\n",
    "Date on which an inmate was sentenced to jail by the court of law\n",
    "#### Offense Date:\n",
    "Date when the offense/crime took place\n",
    "#### Sentenced (Years):\n",
    "Number of years an inmate has been sentenced to stay in jail\n",
    "#### Last Parole Decision:\n",
    "Latest parole decision for an inmate\n",
    "#### Next Parole Review Date:\n",
    "Immediate date of parole review \n",
    "#### Parole Review Status:\n",
    "States if a parole has been accepted or denied "
   ]
  },
  {
   "cell_type": "markdown",
   "id": "7423e2b0",
   "metadata": {},
   "source": [
    "## Importing Libraries:"
   ]
  },
  {
   "cell_type": "code",
   "execution_count": 1,
   "id": "d99c0de2",
   "metadata": {},
   "outputs": [],
   "source": [
    "import pandas as pd\n",
    "import numpy as np\n",
    "import matplotlib.pyplot as plt\n",
    "import seaborn as sns\n",
    "from datetime import datetime"
   ]
  },
  {
   "cell_type": "markdown",
   "id": "873046f2",
   "metadata": {},
   "source": [
    "## Loading data from csv file"
   ]
  },
  {
   "cell_type": "code",
   "execution_count": 2,
   "id": "c3439516",
   "metadata": {},
   "outputs": [],
   "source": [
    "df = pd.read_csv('https://raw.githubusercontent.com/Likhith1702/Data_602/main/High_Value_Dataset__January_2022%20(1).csv')"
   ]
  },
  {
   "cell_type": "code",
   "execution_count": 3,
   "id": "ff2be5d7",
   "metadata": {},
   "outputs": [
    {
     "data": {
      "text/html": [
       "<div>\n",
       "<style scoped>\n",
       "    .dataframe tbody tr th:only-of-type {\n",
       "        vertical-align: middle;\n",
       "    }\n",
       "\n",
       "    .dataframe tbody tr th {\n",
       "        vertical-align: top;\n",
       "    }\n",
       "\n",
       "    .dataframe thead th {\n",
       "        text-align: right;\n",
       "    }\n",
       "</style>\n",
       "<table border=\"1\" class=\"dataframe\">\n",
       "  <thead>\n",
       "    <tr style=\"text-align: right;\">\n",
       "      <th></th>\n",
       "      <th>SID Number</th>\n",
       "      <th>TDCJ Number</th>\n",
       "      <th>Name</th>\n",
       "      <th>Current Facility</th>\n",
       "      <th>Gender</th>\n",
       "      <th>Race</th>\n",
       "      <th>Age</th>\n",
       "      <th>Projected Release</th>\n",
       "      <th>Maximum Sentence Date</th>\n",
       "      <th>Parole Eligibility Date</th>\n",
       "      <th>Case Number</th>\n",
       "      <th>County</th>\n",
       "      <th>Offense Code</th>\n",
       "      <th>TDCJ Offense</th>\n",
       "      <th>Sentence Date</th>\n",
       "      <th>Offense Date</th>\n",
       "      <th>Sentence (Years)</th>\n",
       "      <th>Last Parole Decision</th>\n",
       "      <th>Next Parole Review Date</th>\n",
       "      <th>Parole Review Status</th>\n",
       "    </tr>\n",
       "  </thead>\n",
       "  <tbody>\n",
       "    <tr>\n",
       "      <th>0</th>\n",
       "      <td>524524</td>\n",
       "      <td>758486</td>\n",
       "      <td>HARPER,DAVID JOHN JR</td>\n",
       "      <td>Estelle</td>\n",
       "      <td>M</td>\n",
       "      <td>W</td>\n",
       "      <td>93</td>\n",
       "      <td>01/01/9999</td>\n",
       "      <td>01/01/9999</td>\n",
       "      <td>08/03/2026</td>\n",
       "      <td>95-765-C</td>\n",
       "      <td>McLennan</td>\n",
       "      <td>11180000</td>\n",
       "      <td>AGG SEXUAL ASSAULT</td>\n",
       "      <td>08/13/1996</td>\n",
       "      <td>09/15/1995</td>\n",
       "      <td>Life</td>\n",
       "      <td>None</td>\n",
       "      <td>08/03/2026</td>\n",
       "      <td>NOT IN REVIEW PROCESS</td>\n",
       "    </tr>\n",
       "    <tr>\n",
       "      <th>1</th>\n",
       "      <td>703267</td>\n",
       "      <td>841623</td>\n",
       "      <td>RODRIGUEZ,THEODORE</td>\n",
       "      <td>Hospital Galveston</td>\n",
       "      <td>M</td>\n",
       "      <td>W</td>\n",
       "      <td>84</td>\n",
       "      <td>02/01/2022</td>\n",
       "      <td>08/03/2043</td>\n",
       "      <td>02/01/2021</td>\n",
       "      <td>97-396-C</td>\n",
       "      <td>McLennan</td>\n",
       "      <td>11990003</td>\n",
       "      <td>AGG SEX ASLT</td>\n",
       "      <td>08/05/1998</td>\n",
       "      <td>06/01/1996</td>\n",
       "      <td>45.0</td>\n",
       "      <td>Approved on 08/18/2021</td>\n",
       "      <td>NaN</td>\n",
       "      <td>NOT IN REVIEW PROCESS</td>\n",
       "    </tr>\n",
       "    <tr>\n",
       "      <th>2</th>\n",
       "      <td>770626</td>\n",
       "      <td>449674</td>\n",
       "      <td>FLORES,ISABEL</td>\n",
       "      <td>Pack</td>\n",
       "      <td>M</td>\n",
       "      <td>H</td>\n",
       "      <td>84</td>\n",
       "      <td>01/01/9999</td>\n",
       "      <td>01/01/9999</td>\n",
       "      <td>09/02/2006</td>\n",
       "      <td>86CR-1234-B</td>\n",
       "      <td>Nueces</td>\n",
       "      <td>9150000</td>\n",
       "      <td>MURDER W/DEADLY WPN</td>\n",
       "      <td>04/13/1987</td>\n",
       "      <td>09/02/1986</td>\n",
       "      <td>Life</td>\n",
       "      <td>Denied on 07/21/2021</td>\n",
       "      <td>07/2024</td>\n",
       "      <td>NOT IN REVIEW PROCESS</td>\n",
       "    </tr>\n",
       "    <tr>\n",
       "      <th>3</th>\n",
       "      <td>771601</td>\n",
       "      <td>1491019</td>\n",
       "      <td>MOLETT,JOHN HENRY</td>\n",
       "      <td>Pack</td>\n",
       "      <td>M</td>\n",
       "      <td>B</td>\n",
       "      <td>79</td>\n",
       "      <td>12/02/2037</td>\n",
       "      <td>12/02/2037</td>\n",
       "      <td>12/02/2022</td>\n",
       "      <td>1144294</td>\n",
       "      <td>Harris</td>\n",
       "      <td>12990002</td>\n",
       "      <td>AGG ROBBERY W/DW</td>\n",
       "      <td>02/21/2008</td>\n",
       "      <td>12/03/2007</td>\n",
       "      <td>30.0</td>\n",
       "      <td>None</td>\n",
       "      <td>12/02/2022</td>\n",
       "      <td>NOT IN REVIEW PROCESS</td>\n",
       "    </tr>\n",
       "    <tr>\n",
       "      <th>4</th>\n",
       "      <td>779423</td>\n",
       "      <td>1241039</td>\n",
       "      <td>CARAWAY,LEON JR</td>\n",
       "      <td>C.T. Terrell</td>\n",
       "      <td>M</td>\n",
       "      <td>B</td>\n",
       "      <td>84</td>\n",
       "      <td>06/19/2023</td>\n",
       "      <td>06/19/2023</td>\n",
       "      <td>06/18/2013</td>\n",
       "      <td>04CR-16,149</td>\n",
       "      <td>Shelby</td>\n",
       "      <td>11990003</td>\n",
       "      <td>AGG SEXUAL ALST</td>\n",
       "      <td>05/13/2004</td>\n",
       "      <td>07/24/1999</td>\n",
       "      <td>20.0</td>\n",
       "      <td>Denied on 10/30/2019</td>\n",
       "      <td>09/2022</td>\n",
       "      <td>NOT IN REVIEW PROCESS</td>\n",
       "    </tr>\n",
       "  </tbody>\n",
       "</table>\n",
       "</div>"
      ],
      "text/plain": [
       "   SID Number  TDCJ Number                  Name    Current Facility Gender  \\\n",
       "0      524524       758486  HARPER,DAVID JOHN JR             Estelle      M   \n",
       "1      703267       841623    RODRIGUEZ,THEODORE  Hospital Galveston      M   \n",
       "2      770626       449674         FLORES,ISABEL                Pack      M   \n",
       "3      771601      1491019     MOLETT,JOHN HENRY                Pack      M   \n",
       "4      779423      1241039       CARAWAY,LEON JR        C.T. Terrell      M   \n",
       "\n",
       "  Race  Age Projected Release Maximum Sentence Date Parole Eligibility Date  \\\n",
       "0    W   93        01/01/9999            01/01/9999              08/03/2026   \n",
       "1    W   84        02/01/2022            08/03/2043              02/01/2021   \n",
       "2    H   84        01/01/9999            01/01/9999              09/02/2006   \n",
       "3    B   79        12/02/2037            12/02/2037              12/02/2022   \n",
       "4    B   84        06/19/2023            06/19/2023              06/18/2013   \n",
       "\n",
       "   Case Number    County  Offense Code         TDCJ Offense Sentence Date  \\\n",
       "0     95-765-C  McLennan      11180000   AGG SEXUAL ASSAULT    08/13/1996   \n",
       "1     97-396-C  McLennan      11990003         AGG SEX ASLT    08/05/1998   \n",
       "2  86CR-1234-B    Nueces       9150000  MURDER W/DEADLY WPN    04/13/1987   \n",
       "3      1144294    Harris      12990002     AGG ROBBERY W/DW    02/21/2008   \n",
       "4  04CR-16,149    Shelby      11990003      AGG SEXUAL ALST    05/13/2004   \n",
       "\n",
       "  Offense Date Sentence (Years)    Last Parole Decision  \\\n",
       "0   09/15/1995             Life                    None   \n",
       "1   06/01/1996             45.0  Approved on 08/18/2021   \n",
       "2   09/02/1986             Life    Denied on 07/21/2021   \n",
       "3   12/03/2007             30.0                    None   \n",
       "4   07/24/1999             20.0    Denied on 10/30/2019   \n",
       "\n",
       "  Next Parole Review Date   Parole Review Status  \n",
       "0              08/03/2026  NOT IN REVIEW PROCESS  \n",
       "1                     NaN  NOT IN REVIEW PROCESS  \n",
       "2                 07/2024  NOT IN REVIEW PROCESS  \n",
       "3              12/02/2022  NOT IN REVIEW PROCESS  \n",
       "4                 09/2022  NOT IN REVIEW PROCESS  "
      ]
     },
     "execution_count": 3,
     "metadata": {},
     "output_type": "execute_result"
    }
   ],
   "source": [
    "df.head()"
   ]
  },
  {
   "cell_type": "code",
   "execution_count": 4,
   "id": "86bb55d3",
   "metadata": {},
   "outputs": [
    {
     "name": "stdout",
     "output_type": "stream",
     "text": [
      "Rows and Columns: (118733, 20)\n"
     ]
    }
   ],
   "source": [
    "print(\"Rows and Columns:\",df.shape)"
   ]
  },
  {
   "cell_type": "code",
   "execution_count": 5,
   "id": "657b112d",
   "metadata": {},
   "outputs": [
    {
     "name": "stdout",
     "output_type": "stream",
     "text": [
      "<class 'pandas.core.frame.DataFrame'>\n",
      "RangeIndex: 118733 entries, 0 to 118732\n",
      "Data columns (total 20 columns):\n",
      " #   Column                   Non-Null Count   Dtype \n",
      "---  ------                   --------------   ----- \n",
      " 0   SID Number               118733 non-null  int64 \n",
      " 1   TDCJ Number              118733 non-null  int64 \n",
      " 2   Name                     118733 non-null  object\n",
      " 3   Current Facility         118733 non-null  object\n",
      " 4   Gender                   118733 non-null  object\n",
      " 5   Race                     118733 non-null  object\n",
      " 6   Age                      118733 non-null  int64 \n",
      " 7   Projected Release        118714 non-null  object\n",
      " 8   Maximum Sentence Date    118489 non-null  object\n",
      " 9   Parole Eligibility Date  108421 non-null  object\n",
      " 10  Case Number              118671 non-null  object\n",
      " 11  County                   118733 non-null  object\n",
      " 12  Offense Code             118733 non-null  int64 \n",
      " 13  TDCJ Offense             118733 non-null  object\n",
      " 14  Sentence Date            116307 non-null  object\n",
      " 15  Offense Date             118733 non-null  object\n",
      " 16  Sentence (Years)         118732 non-null  object\n",
      " 17  Last Parole Decision     109466 non-null  object\n",
      " 18  Next Parole Review Date  95660 non-null   object\n",
      " 19  Parole Review Status     109466 non-null  object\n",
      "dtypes: int64(4), object(16)\n",
      "memory usage: 18.1+ MB\n"
     ]
    }
   ],
   "source": [
    "df.info()"
   ]
  },
  {
   "cell_type": "code",
   "execution_count": 6,
   "id": "245c2c6d",
   "metadata": {},
   "outputs": [
    {
     "data": {
      "text/plain": [
       "SID Number                     0\n",
       "TDCJ Number                    0\n",
       "Name                           0\n",
       "Current Facility               0\n",
       "Gender                         0\n",
       "Race                           0\n",
       "Age                            0\n",
       "Projected Release             19\n",
       "Maximum Sentence Date        244\n",
       "Parole Eligibility Date    10312\n",
       "Case Number                   62\n",
       "County                         0\n",
       "Offense Code                   0\n",
       "TDCJ Offense                   0\n",
       "Sentence Date               2426\n",
       "Offense Date                   0\n",
       "Sentence (Years)               1\n",
       "Last Parole Decision        9267\n",
       "Next Parole Review Date    23073\n",
       "Parole Review Status        9267\n",
       "dtype: int64"
      ]
     },
     "execution_count": 6,
     "metadata": {},
     "output_type": "execute_result"
    }
   ],
   "source": [
    "df.isnull().sum()"
   ]
  },
  {
   "cell_type": "code",
   "execution_count": 7,
   "id": "e9e2cf4f",
   "metadata": {},
   "outputs": [
    {
     "data": {
      "text/plain": [
       "Index(['SID Number', 'TDCJ Number', 'Name', 'Current Facility', 'Gender',\n",
       "       'Race', 'Age', 'Projected Release', 'Maximum Sentence Date',\n",
       "       'Parole Eligibility Date', 'Case Number', 'County', 'Offense Code',\n",
       "       'TDCJ Offense', 'Sentence Date', 'Offense Date', 'Sentence (Years)',\n",
       "       'Last Parole Decision', 'Next Parole Review Date',\n",
       "       'Parole Review Status'],\n",
       "      dtype='object')"
      ]
     },
     "execution_count": 7,
     "metadata": {},
     "output_type": "execute_result"
    }
   ],
   "source": [
    "df.columns"
   ]
  },
  {
   "cell_type": "markdown",
   "id": "00b5defa",
   "metadata": {},
   "source": [
    "## Creating a new dataframe to clean the data"
   ]
  },
  {
   "cell_type": "markdown",
   "id": "03d86657",
   "metadata": {},
   "source": [
    "### Dropping the following columns:\n",
    "#### SID Number, Name, Case Number, Next Parole Review Date\n",
    "\n",
    "As these are not needed in our analysis we will be dropping them and creating an new data set for further processing of data. This will give us a clear picture of our variables."
   ]
  },
  {
   "cell_type": "code",
   "execution_count": 8,
   "id": "0d54a334",
   "metadata": {},
   "outputs": [
    {
     "data": {
      "text/plain": [
       "Index(['TDCJ Number', 'Current Facility', 'Gender', 'Race', 'Age',\n",
       "       'Projected Release', 'Maximum Sentence Date', 'Parole Eligibility Date',\n",
       "       'County', 'Offense Code', 'TDCJ Offense', 'Sentence Date',\n",
       "       'Offense Date', 'Sentence (Years)', 'Last Parole Decision',\n",
       "       'Parole Review Status'],\n",
       "      dtype='object')"
      ]
     },
     "execution_count": 8,
     "metadata": {},
     "output_type": "execute_result"
    }
   ],
   "source": [
    "dff = df.drop(columns=['SID Number','Name','Case Number','Next Parole Review Date'])\n",
    "dff.columns"
   ]
  },
  {
   "cell_type": "markdown",
   "id": "c981c62f",
   "metadata": {},
   "source": [
    "### Dropping NaN values from the following columns: \n",
    "#### Parole Eligibility Date, Last Parole Decision, Parole Review Status, Maximum Sentence Date\n",
    "\n",
    "These coloumns have NaN values that hamper our analysis so we are dropping them to make the data cleaner to work with. with regards to Parole Eligibility Data, NaN come as one is not decided for a perticular person, hence we are making it as \"None\" the same with regards to Last Parole decision, if it is not approved or denied we will be making the same as none for further analysis. So with the Parole Review status. "
   ]
  },
  {
   "cell_type": "code",
   "execution_count": 9,
   "id": "8a44b099",
   "metadata": {},
   "outputs": [],
   "source": [
    "dff = dff.dropna(subset = ['Parole Eligibility Date','Last Parole Decision', 'Parole Review Status','Maximum Sentence Date'])"
   ]
  },
  {
   "cell_type": "code",
   "execution_count": 10,
   "id": "fc7ddb74",
   "metadata": {},
   "outputs": [
    {
     "data": {
      "text/html": [
       "<div>\n",
       "<style scoped>\n",
       "    .dataframe tbody tr th:only-of-type {\n",
       "        vertical-align: middle;\n",
       "    }\n",
       "\n",
       "    .dataframe tbody tr th {\n",
       "        vertical-align: top;\n",
       "    }\n",
       "\n",
       "    .dataframe thead th {\n",
       "        text-align: right;\n",
       "    }\n",
       "</style>\n",
       "<table border=\"1\" class=\"dataframe\">\n",
       "  <thead>\n",
       "    <tr style=\"text-align: right;\">\n",
       "      <th></th>\n",
       "      <th>TDCJ Number</th>\n",
       "      <th>Current Facility</th>\n",
       "      <th>Gender</th>\n",
       "      <th>Race</th>\n",
       "      <th>Age</th>\n",
       "      <th>Projected Release</th>\n",
       "      <th>Maximum Sentence Date</th>\n",
       "      <th>Parole Eligibility Date</th>\n",
       "      <th>County</th>\n",
       "      <th>Offense Code</th>\n",
       "      <th>TDCJ Offense</th>\n",
       "      <th>Sentence Date</th>\n",
       "      <th>Offense Date</th>\n",
       "      <th>Sentence (Years)</th>\n",
       "      <th>Last Parole Decision</th>\n",
       "      <th>Parole Review Status</th>\n",
       "    </tr>\n",
       "  </thead>\n",
       "  <tbody>\n",
       "    <tr>\n",
       "      <th>0</th>\n",
       "      <td>758486</td>\n",
       "      <td>Estelle</td>\n",
       "      <td>M</td>\n",
       "      <td>W</td>\n",
       "      <td>93</td>\n",
       "      <td>01/01/9999</td>\n",
       "      <td>01/01/9999</td>\n",
       "      <td>08/03/2026</td>\n",
       "      <td>McLennan</td>\n",
       "      <td>11180000</td>\n",
       "      <td>AGG SEXUAL ASSAULT</td>\n",
       "      <td>08/13/1996</td>\n",
       "      <td>09/15/1995</td>\n",
       "      <td>Life</td>\n",
       "      <td>None</td>\n",
       "      <td>NOT IN REVIEW PROCESS</td>\n",
       "    </tr>\n",
       "    <tr>\n",
       "      <th>1</th>\n",
       "      <td>841623</td>\n",
       "      <td>Hospital Galveston</td>\n",
       "      <td>M</td>\n",
       "      <td>W</td>\n",
       "      <td>84</td>\n",
       "      <td>02/01/2022</td>\n",
       "      <td>08/03/2043</td>\n",
       "      <td>02/01/2021</td>\n",
       "      <td>McLennan</td>\n",
       "      <td>11990003</td>\n",
       "      <td>AGG SEX ASLT</td>\n",
       "      <td>08/05/1998</td>\n",
       "      <td>06/01/1996</td>\n",
       "      <td>45.0</td>\n",
       "      <td>Approved on 08/18/2021</td>\n",
       "      <td>NOT IN REVIEW PROCESS</td>\n",
       "    </tr>\n",
       "    <tr>\n",
       "      <th>2</th>\n",
       "      <td>449674</td>\n",
       "      <td>Pack</td>\n",
       "      <td>M</td>\n",
       "      <td>H</td>\n",
       "      <td>84</td>\n",
       "      <td>01/01/9999</td>\n",
       "      <td>01/01/9999</td>\n",
       "      <td>09/02/2006</td>\n",
       "      <td>Nueces</td>\n",
       "      <td>9150000</td>\n",
       "      <td>MURDER W/DEADLY WPN</td>\n",
       "      <td>04/13/1987</td>\n",
       "      <td>09/02/1986</td>\n",
       "      <td>Life</td>\n",
       "      <td>Denied on 07/21/2021</td>\n",
       "      <td>NOT IN REVIEW PROCESS</td>\n",
       "    </tr>\n",
       "    <tr>\n",
       "      <th>3</th>\n",
       "      <td>1491019</td>\n",
       "      <td>Pack</td>\n",
       "      <td>M</td>\n",
       "      <td>B</td>\n",
       "      <td>79</td>\n",
       "      <td>12/02/2037</td>\n",
       "      <td>12/02/2037</td>\n",
       "      <td>12/02/2022</td>\n",
       "      <td>Harris</td>\n",
       "      <td>12990002</td>\n",
       "      <td>AGG ROBBERY W/DW</td>\n",
       "      <td>02/21/2008</td>\n",
       "      <td>12/03/2007</td>\n",
       "      <td>30.0</td>\n",
       "      <td>None</td>\n",
       "      <td>NOT IN REVIEW PROCESS</td>\n",
       "    </tr>\n",
       "    <tr>\n",
       "      <th>4</th>\n",
       "      <td>1241039</td>\n",
       "      <td>C.T. Terrell</td>\n",
       "      <td>M</td>\n",
       "      <td>B</td>\n",
       "      <td>84</td>\n",
       "      <td>06/19/2023</td>\n",
       "      <td>06/19/2023</td>\n",
       "      <td>06/18/2013</td>\n",
       "      <td>Shelby</td>\n",
       "      <td>11990003</td>\n",
       "      <td>AGG SEXUAL ALST</td>\n",
       "      <td>05/13/2004</td>\n",
       "      <td>07/24/1999</td>\n",
       "      <td>20.0</td>\n",
       "      <td>Denied on 10/30/2019</td>\n",
       "      <td>NOT IN REVIEW PROCESS</td>\n",
       "    </tr>\n",
       "  </tbody>\n",
       "</table>\n",
       "</div>"
      ],
      "text/plain": [
       "   TDCJ Number    Current Facility Gender Race  Age Projected Release  \\\n",
       "0       758486             Estelle      M    W   93        01/01/9999   \n",
       "1       841623  Hospital Galveston      M    W   84        02/01/2022   \n",
       "2       449674                Pack      M    H   84        01/01/9999   \n",
       "3      1491019                Pack      M    B   79        12/02/2037   \n",
       "4      1241039        C.T. Terrell      M    B   84        06/19/2023   \n",
       "\n",
       "  Maximum Sentence Date Parole Eligibility Date    County  Offense Code  \\\n",
       "0            01/01/9999              08/03/2026  McLennan      11180000   \n",
       "1            08/03/2043              02/01/2021  McLennan      11990003   \n",
       "2            01/01/9999              09/02/2006    Nueces       9150000   \n",
       "3            12/02/2037              12/02/2022    Harris      12990002   \n",
       "4            06/19/2023              06/18/2013    Shelby      11990003   \n",
       "\n",
       "          TDCJ Offense Sentence Date Offense Date Sentence (Years)  \\\n",
       "0   AGG SEXUAL ASSAULT    08/13/1996   09/15/1995             Life   \n",
       "1         AGG SEX ASLT    08/05/1998   06/01/1996             45.0   \n",
       "2  MURDER W/DEADLY WPN    04/13/1987   09/02/1986             Life   \n",
       "3     AGG ROBBERY W/DW    02/21/2008   12/03/2007             30.0   \n",
       "4      AGG SEXUAL ALST    05/13/2004   07/24/1999             20.0   \n",
       "\n",
       "     Last Parole Decision   Parole Review Status  \n",
       "0                    None  NOT IN REVIEW PROCESS  \n",
       "1  Approved on 08/18/2021  NOT IN REVIEW PROCESS  \n",
       "2    Denied on 07/21/2021  NOT IN REVIEW PROCESS  \n",
       "3                    None  NOT IN REVIEW PROCESS  \n",
       "4    Denied on 10/30/2019  NOT IN REVIEW PROCESS  "
      ]
     },
     "execution_count": 10,
     "metadata": {},
     "output_type": "execute_result"
    }
   ],
   "source": [
    "dff.head()"
   ]
  },
  {
   "cell_type": "markdown",
   "id": "f379b3c2",
   "metadata": {},
   "source": [
    "### Replacing 'Life' in 'Sentence (Years)' column with 110\n",
    "\n",
    "To make the data consistent we are changing the text that is there as \"Life\", \"Capital Life\" to numerical. I chose a random number 110 and replacing this with that text in the coloum. To make the column consistent and numerical as that can be used in efficienty way for further analysis. "
   ]
  },
  {
   "cell_type": "code",
   "execution_count": 11,
   "id": "dc562985",
   "metadata": {},
   "outputs": [],
   "source": [
    "dff['Sentence (Years)'] = dff['Sentence (Years)'].replace(['Life','Capital Life'],110)"
   ]
  },
  {
   "cell_type": "markdown",
   "id": "6f0c4a1c",
   "metadata": {},
   "source": [
    "### Splitting 'Last Parole Decision' column into 'Parole_Decision' and 'Parole_Decision_Date' columns. \n",
    "To understand when a person got his parole approved and denied we are splitting this in to two coloumns as \"Parole_Decision\" when shows us if they got it approved or denied. While the coloumn \"Parole_Decision_Data\" will give us the date when it happened. If a Parole decision is \"None\" the same will reflect on the Parole_decision_Date coloumn as well."
   ]
  },
  {
   "cell_type": "code",
   "execution_count": 12,
   "id": "ff6b8ff5",
   "metadata": {},
   "outputs": [],
   "source": [
    "dff[['Parole_Decision','Parole_Decision_Date']]= dff['Last Parole Decision'].str.split(' on',expand=True)"
   ]
  },
  {
   "cell_type": "code",
   "execution_count": 13,
   "id": "237a62fd",
   "metadata": {
    "scrolled": true
   },
   "outputs": [
    {
     "name": "stdout",
     "output_type": "stream",
     "text": [
      "<class 'pandas.core.frame.DataFrame'>\n",
      "Int64Index: 105951 entries, 0 to 118730\n",
      "Data columns (total 20 columns):\n",
      " #   Column                   Non-Null Count   Dtype         \n",
      "---  ------                   --------------   -----         \n",
      " 0   TDCJ Number              105951 non-null  int64         \n",
      " 1   Current Facility         105951 non-null  object        \n",
      " 2   Gender                   105951 non-null  object        \n",
      " 3   Race                     105951 non-null  object        \n",
      " 4   Age                      105951 non-null  int64         \n",
      " 5   Projected Release        105951 non-null  object        \n",
      " 6   Maximum Sentence Date    105951 non-null  object        \n",
      " 7   Parole Eligibility Date  105951 non-null  object        \n",
      " 8   County                   105951 non-null  object        \n",
      " 9   Offense Code             105951 non-null  int64         \n",
      " 10  TDCJ Offense             105951 non-null  object        \n",
      " 11  Sentence Date            105951 non-null  object        \n",
      " 12  Offense Date             105951 non-null  object        \n",
      " 13  Sentence (Years)         105951 non-null  object        \n",
      " 14  Last Parole Decision     105951 non-null  object        \n",
      " 15  Parole Review Status     105951 non-null  object        \n",
      " 16  Parole_Decision          105951 non-null  object        \n",
      " 17  Parole_Decision_Date     60477 non-null   datetime64[ns]\n",
      " 18  Decision_Year            60477 non-null   float64       \n",
      " 19  Decision_Month           60477 non-null   float64       \n",
      "dtypes: datetime64[ns](1), float64(2), int64(3), object(14)\n",
      "memory usage: 17.0+ MB\n"
     ]
    }
   ],
   "source": [
    "dff['Parole_Decision_Date']= pd.to_datetime(dff['Parole_Decision_Date'])\n",
    "dff['Decision_Year'] = dff['Parole_Decision_Date'].dt.year\n",
    "dff['Decision_Month'] = dff['Parole_Decision_Date'].dt.month\n",
    "dff.info()"
   ]
  },
  {
   "cell_type": "code",
   "execution_count": 14,
   "id": "0491c587",
   "metadata": {},
   "outputs": [
    {
     "data": {
      "text/html": [
       "<div>\n",
       "<style scoped>\n",
       "    .dataframe tbody tr th:only-of-type {\n",
       "        vertical-align: middle;\n",
       "    }\n",
       "\n",
       "    .dataframe tbody tr th {\n",
       "        vertical-align: top;\n",
       "    }\n",
       "\n",
       "    .dataframe thead th {\n",
       "        text-align: right;\n",
       "    }\n",
       "</style>\n",
       "<table border=\"1\" class=\"dataframe\">\n",
       "  <thead>\n",
       "    <tr style=\"text-align: right;\">\n",
       "      <th></th>\n",
       "      <th>TDCJ Number</th>\n",
       "      <th>Current Facility</th>\n",
       "      <th>Gender</th>\n",
       "      <th>Race</th>\n",
       "      <th>Age</th>\n",
       "      <th>Projected Release</th>\n",
       "      <th>Maximum Sentence Date</th>\n",
       "      <th>Parole Eligibility Date</th>\n",
       "      <th>County</th>\n",
       "      <th>Offense Code</th>\n",
       "      <th>TDCJ Offense</th>\n",
       "      <th>Sentence Date</th>\n",
       "      <th>Offense Date</th>\n",
       "      <th>Sentence (Years)</th>\n",
       "      <th>Last Parole Decision</th>\n",
       "      <th>Parole Review Status</th>\n",
       "      <th>Parole_Decision</th>\n",
       "      <th>Parole_Decision_Date</th>\n",
       "      <th>Decision_Year</th>\n",
       "      <th>Decision_Month</th>\n",
       "    </tr>\n",
       "  </thead>\n",
       "  <tbody>\n",
       "    <tr>\n",
       "      <th>0</th>\n",
       "      <td>758486</td>\n",
       "      <td>Estelle</td>\n",
       "      <td>M</td>\n",
       "      <td>W</td>\n",
       "      <td>93</td>\n",
       "      <td>01/01/9999</td>\n",
       "      <td>01/01/9999</td>\n",
       "      <td>08/03/2026</td>\n",
       "      <td>McLennan</td>\n",
       "      <td>11180000</td>\n",
       "      <td>AGG SEXUAL ASSAULT</td>\n",
       "      <td>08/13/1996</td>\n",
       "      <td>09/15/1995</td>\n",
       "      <td>110</td>\n",
       "      <td>None</td>\n",
       "      <td>NOT IN REVIEW PROCESS</td>\n",
       "      <td>None</td>\n",
       "      <td>NaT</td>\n",
       "      <td>NaN</td>\n",
       "      <td>NaN</td>\n",
       "    </tr>\n",
       "    <tr>\n",
       "      <th>1</th>\n",
       "      <td>841623</td>\n",
       "      <td>Hospital Galveston</td>\n",
       "      <td>M</td>\n",
       "      <td>W</td>\n",
       "      <td>84</td>\n",
       "      <td>02/01/2022</td>\n",
       "      <td>08/03/2043</td>\n",
       "      <td>02/01/2021</td>\n",
       "      <td>McLennan</td>\n",
       "      <td>11990003</td>\n",
       "      <td>AGG SEX ASLT</td>\n",
       "      <td>08/05/1998</td>\n",
       "      <td>06/01/1996</td>\n",
       "      <td>45.0</td>\n",
       "      <td>Approved on 08/18/2021</td>\n",
       "      <td>NOT IN REVIEW PROCESS</td>\n",
       "      <td>Approved</td>\n",
       "      <td>2021-08-18</td>\n",
       "      <td>2021.0</td>\n",
       "      <td>8.0</td>\n",
       "    </tr>\n",
       "    <tr>\n",
       "      <th>2</th>\n",
       "      <td>449674</td>\n",
       "      <td>Pack</td>\n",
       "      <td>M</td>\n",
       "      <td>H</td>\n",
       "      <td>84</td>\n",
       "      <td>01/01/9999</td>\n",
       "      <td>01/01/9999</td>\n",
       "      <td>09/02/2006</td>\n",
       "      <td>Nueces</td>\n",
       "      <td>9150000</td>\n",
       "      <td>MURDER W/DEADLY WPN</td>\n",
       "      <td>04/13/1987</td>\n",
       "      <td>09/02/1986</td>\n",
       "      <td>110</td>\n",
       "      <td>Denied on 07/21/2021</td>\n",
       "      <td>NOT IN REVIEW PROCESS</td>\n",
       "      <td>Denied</td>\n",
       "      <td>2021-07-21</td>\n",
       "      <td>2021.0</td>\n",
       "      <td>7.0</td>\n",
       "    </tr>\n",
       "    <tr>\n",
       "      <th>3</th>\n",
       "      <td>1491019</td>\n",
       "      <td>Pack</td>\n",
       "      <td>M</td>\n",
       "      <td>B</td>\n",
       "      <td>79</td>\n",
       "      <td>12/02/2037</td>\n",
       "      <td>12/02/2037</td>\n",
       "      <td>12/02/2022</td>\n",
       "      <td>Harris</td>\n",
       "      <td>12990002</td>\n",
       "      <td>AGG ROBBERY W/DW</td>\n",
       "      <td>02/21/2008</td>\n",
       "      <td>12/03/2007</td>\n",
       "      <td>30.0</td>\n",
       "      <td>None</td>\n",
       "      <td>NOT IN REVIEW PROCESS</td>\n",
       "      <td>None</td>\n",
       "      <td>NaT</td>\n",
       "      <td>NaN</td>\n",
       "      <td>NaN</td>\n",
       "    </tr>\n",
       "    <tr>\n",
       "      <th>4</th>\n",
       "      <td>1241039</td>\n",
       "      <td>C.T. Terrell</td>\n",
       "      <td>M</td>\n",
       "      <td>B</td>\n",
       "      <td>84</td>\n",
       "      <td>06/19/2023</td>\n",
       "      <td>06/19/2023</td>\n",
       "      <td>06/18/2013</td>\n",
       "      <td>Shelby</td>\n",
       "      <td>11990003</td>\n",
       "      <td>AGG SEXUAL ALST</td>\n",
       "      <td>05/13/2004</td>\n",
       "      <td>07/24/1999</td>\n",
       "      <td>20.0</td>\n",
       "      <td>Denied on 10/30/2019</td>\n",
       "      <td>NOT IN REVIEW PROCESS</td>\n",
       "      <td>Denied</td>\n",
       "      <td>2019-10-30</td>\n",
       "      <td>2019.0</td>\n",
       "      <td>10.0</td>\n",
       "    </tr>\n",
       "  </tbody>\n",
       "</table>\n",
       "</div>"
      ],
      "text/plain": [
       "   TDCJ Number    Current Facility Gender Race  Age Projected Release  \\\n",
       "0       758486             Estelle      M    W   93        01/01/9999   \n",
       "1       841623  Hospital Galveston      M    W   84        02/01/2022   \n",
       "2       449674                Pack      M    H   84        01/01/9999   \n",
       "3      1491019                Pack      M    B   79        12/02/2037   \n",
       "4      1241039        C.T. Terrell      M    B   84        06/19/2023   \n",
       "\n",
       "  Maximum Sentence Date Parole Eligibility Date    County  Offense Code  \\\n",
       "0            01/01/9999              08/03/2026  McLennan      11180000   \n",
       "1            08/03/2043              02/01/2021  McLennan      11990003   \n",
       "2            01/01/9999              09/02/2006    Nueces       9150000   \n",
       "3            12/02/2037              12/02/2022    Harris      12990002   \n",
       "4            06/19/2023              06/18/2013    Shelby      11990003   \n",
       "\n",
       "          TDCJ Offense Sentence Date Offense Date Sentence (Years)  \\\n",
       "0   AGG SEXUAL ASSAULT    08/13/1996   09/15/1995              110   \n",
       "1         AGG SEX ASLT    08/05/1998   06/01/1996             45.0   \n",
       "2  MURDER W/DEADLY WPN    04/13/1987   09/02/1986              110   \n",
       "3     AGG ROBBERY W/DW    02/21/2008   12/03/2007             30.0   \n",
       "4      AGG SEXUAL ALST    05/13/2004   07/24/1999             20.0   \n",
       "\n",
       "     Last Parole Decision   Parole Review Status Parole_Decision  \\\n",
       "0                    None  NOT IN REVIEW PROCESS            None   \n",
       "1  Approved on 08/18/2021  NOT IN REVIEW PROCESS        Approved   \n",
       "2    Denied on 07/21/2021  NOT IN REVIEW PROCESS          Denied   \n",
       "3                    None  NOT IN REVIEW PROCESS            None   \n",
       "4    Denied on 10/30/2019  NOT IN REVIEW PROCESS          Denied   \n",
       "\n",
       "  Parole_Decision_Date  Decision_Year  Decision_Month  \n",
       "0                  NaT            NaN             NaN  \n",
       "1           2021-08-18         2021.0             8.0  \n",
       "2           2021-07-21         2021.0             7.0  \n",
       "3                  NaT            NaN             NaN  \n",
       "4           2019-10-30         2019.0            10.0  "
      ]
     },
     "execution_count": 14,
     "metadata": {},
     "output_type": "execute_result"
    }
   ],
   "source": [
    "dff.head()"
   ]
  },
  {
   "cell_type": "code",
   "execution_count": 15,
   "id": "e26ab8ec",
   "metadata": {},
   "outputs": [
    {
     "data": {
      "text/plain": [
       "TDCJ Number                    0\n",
       "Current Facility               0\n",
       "Gender                         0\n",
       "Race                           0\n",
       "Age                            0\n",
       "Projected Release              0\n",
       "Maximum Sentence Date          0\n",
       "Parole Eligibility Date        0\n",
       "County                         0\n",
       "Offense Code                   0\n",
       "TDCJ Offense                   0\n",
       "Sentence Date                  0\n",
       "Offense Date                   0\n",
       "Sentence (Years)               0\n",
       "Last Parole Decision           0\n",
       "Parole Review Status           0\n",
       "Parole_Decision                0\n",
       "Parole_Decision_Date       45474\n",
       "Decision_Year              45474\n",
       "Decision_Month             45474\n",
       "dtype: int64"
      ]
     },
     "execution_count": 15,
     "metadata": {},
     "output_type": "execute_result"
    }
   ],
   "source": [
    "dff.isna().sum()"
   ]
  },
  {
   "cell_type": "code",
   "execution_count": 16,
   "id": "9ce9f6ae",
   "metadata": {},
   "outputs": [],
   "source": [
    "dff = dff.dropna(subset = ['Parole_Decision_Date','Decision_Year', 'Decision_Month'])"
   ]
  },
  {
   "cell_type": "markdown",
   "id": "ba6fc8f6",
   "metadata": {},
   "source": [
    "### Removing all null values in each of the columns "
   ]
  },
  {
   "cell_type": "code",
   "execution_count": 17,
   "id": "7d5dcfe3",
   "metadata": {},
   "outputs": [
    {
     "data": {
      "text/plain": [
       "TDCJ Number                0\n",
       "Current Facility           0\n",
       "Gender                     0\n",
       "Race                       0\n",
       "Age                        0\n",
       "Projected Release          0\n",
       "Maximum Sentence Date      0\n",
       "Parole Eligibility Date    0\n",
       "County                     0\n",
       "Offense Code               0\n",
       "TDCJ Offense               0\n",
       "Sentence Date              0\n",
       "Offense Date               0\n",
       "Sentence (Years)           0\n",
       "Last Parole Decision       0\n",
       "Parole Review Status       0\n",
       "Parole_Decision            0\n",
       "Parole_Decision_Date       0\n",
       "Decision_Year              0\n",
       "Decision_Month             0\n",
       "dtype: int64"
      ]
     },
     "execution_count": 17,
     "metadata": {},
     "output_type": "execute_result"
    }
   ],
   "source": [
    "dff.isna().sum()"
   ]
  },
  {
   "cell_type": "markdown",
   "id": "a8e650fb",
   "metadata": {},
   "source": [
    "This is the dataset ('dff') that will be used for EDA after cleaning the original dataset"
   ]
  },
  {
   "cell_type": "markdown",
   "id": "234a02dc",
   "metadata": {},
   "source": [
    "## Exploratory Data Analysis:"
   ]
  },
  {
   "cell_type": "markdown",
   "id": "ec3183a0",
   "metadata": {},
   "source": [
    "### Top 10 offenses in Texas:"
   ]
  },
  {
   "cell_type": "code",
   "execution_count": 18,
   "id": "9e3ce31f",
   "metadata": {},
   "outputs": [
    {
     "data": {
      "image/png": "[encoded data removed]",
      "text/plain": [
       "<Figure size 720x432 with 1 Axes>"
      ]
     },
     "metadata": {
      "needs_background": "light"
     },
     "output_type": "display_data"
    }
   ],
   "source": [
    "dff['TDCJ Offense'].value_counts().head(10).plot(kind='bar',title='Top 10 Offenses',fontsize=12, figsize=(10,6))\n",
    "plt.xticks(rotation=60)\n",
    "plt.show(close=None, block=None)"
   ]
  },
  {
   "cell_type": "markdown",
   "id": "b17b082a",
   "metadata": {},
   "source": [
    "As per the plot we can see that from the data we have \"Murder\" tops the list while \"Robbery\" takes the second place and Sexual assult on minors comes at last. "
   ]
  },
  {
   "cell_type": "markdown",
   "id": "cc96e9b3",
   "metadata": {},
   "source": [
    "### Top facilities in which inmates are housed:"
   ]
  },
  {
   "cell_type": "code",
   "execution_count": 19,
   "id": "cc07b2e6",
   "metadata": {},
   "outputs": [
    {
     "data": {
      "image/png": "[encoded data removed]",
      "text/plain": [
       "<Figure size 720x576 with 1 Axes>"
      ]
     },
     "metadata": {
      "needs_background": "light"
     },
     "output_type": "display_data"
    }
   ],
   "source": [
    "dff['Current Facility'].value_counts().head(10).plot(kind='bar',title='Top 10 Current Facilities',fontsize=12, figsize=(10,8))\n",
    "plt.xticks(rotation=75)\n",
    "plt.show(close=None, block=None)"
   ]
  },
  {
   "cell_type": "markdown",
   "id": "5e164dd9",
   "metadata": {},
   "source": [
    "### Unsafe counties as per data in Texas:"
   ]
  },
  {
   "cell_type": "code",
   "execution_count": 20,
   "id": "a980ad15",
   "metadata": {
    "scrolled": false
   },
   "outputs": [
    {
     "data": {
      "image/png": "[encoded data removed]",
      "text/plain": [
       "<Figure size 720x432 with 1 Axes>"
      ]
     },
     "metadata": {
      "needs_background": "light"
     },
     "output_type": "display_data"
    }
   ],
   "source": [
    "dff['County'].value_counts().head().plot(kind='bar',title='Top 5 unsafe counties',fontsize=12, figsize=(10,6))\n",
    "plt.xticks(rotation=60)\n",
    "plt.show(close=None, block=None)"
   ]
  },
  {
   "cell_type": "markdown",
   "id": "fb3fbfa7",
   "metadata": {},
   "source": [
    "### Count of Approved and Denied parole decisions:"
   ]
  },
  {
   "cell_type": "code",
   "execution_count": 21,
   "id": "ca1e12b6",
   "metadata": {},
   "outputs": [
    {
     "data": {
      "image/png": "[encoded data removed]",
      "text/plain": [
       "<Figure size 720x432 with 1 Axes>"
      ]
     },
     "metadata": {
      "needs_background": "light"
     },
     "output_type": "display_data"
    }
   ],
   "source": [
    "dff['Parole_Decision'].value_counts().sort_index().plot(kind='bar',title='Parole Decisions',fontsize=12, figsize=(10,6))\n",
    "plt.xticks(rotation=0)\n",
    "plt.show(close=None, block=None)"
   ]
  },
  {
   "cell_type": "code",
   "execution_count": 22,
   "id": "89d68896",
   "metadata": {},
   "outputs": [
    {
     "data": {
      "text/plain": [
       "Denied      48195\n",
       "Approved    12282\n",
       "Name: Parole_Decision, dtype: int64"
      ]
     },
     "execution_count": 22,
     "metadata": {},
     "output_type": "execute_result"
    }
   ],
   "source": [
    "x= dff['Parole_Decision'].value_counts()\n",
    "x"
   ]
  },
  {
   "cell_type": "markdown",
   "id": "c51a2fae",
   "metadata": {},
   "source": [
    "### Acceptance and denial frequency of parole based on Age:"
   ]
  },
  {
   "cell_type": "code",
   "execution_count": 23,
   "id": "7d114cf3",
   "metadata": {},
   "outputs": [
    {
     "data": {
      "image/png": "[encoded data removed]",
      "text/plain": [
       "<Figure size 1440x720 with 1 Axes>"
      ]
     },
     "metadata": {
      "needs_background": "light"
     },
     "output_type": "display_data"
    }
   ],
   "source": [
    "Parole_Age=dff.groupby(['Age','Parole_Decision']).size().to_frame()\n",
    "bins = (10, 20, 30, 40, 50, 60, 70, 80, 90, 100)\n",
    "Parole_Age.unstack().plot(kind='hist',edgecolor='k',stacked=True,figsize=(20,10), bins= bins)\n",
    "plt.title('Acceptance and Denial of Parole based on Age')\n",
    "plt.xlabel('Age')\n",
    "plt.show()"
   ]
  },
  {
   "cell_type": "markdown",
   "id": "0f30c595",
   "metadata": {},
   "source": [
    "Most approved paroles are given for people aged between 20-30. Also, people who are aged between 60-80 have no approval paroles."
   ]
  },
  {
   "cell_type": "markdown",
   "id": "4da4b754",
   "metadata": {},
   "source": [
    "### Acceptance and denial frequency of parole based on sentence years:"
   ]
  },
  {
   "cell_type": "code",
   "execution_count": 24,
   "id": "f4fcce2f",
   "metadata": {},
   "outputs": [
    {
     "data": {
      "image/png": "[encoded data removed]",
      "text/plain": [
       "<Figure size 1440x720 with 1 Axes>"
      ]
     },
     "metadata": {
      "needs_background": "light"
     },
     "output_type": "display_data"
    }
   ],
   "source": [
    "Sentence_Years=dff.groupby(['Sentence (Years)','Parole_Decision']).size().to_frame()\n",
    "bins = (10, 20, 30, 40, 50, 60, 70, 80, 90, 100,110,120)\n",
    "Sentence_Years.unstack().plot(kind='hist',edgecolor='k',stacked=True,figsize=(20,10), bins=bins)\n",
    "plt.title('Acceptance and Denial of Parole based on Sentence Years')\n",
    "plt.xlabel('Sentence Years')\n",
    "plt.show()"
   ]
  },
  {
   "cell_type": "markdown",
   "id": "b61db390",
   "metadata": {},
   "source": [
    "People who are sentenced between 10-20 years have maximum parole approvals also maximum parole denials."
   ]
  },
  {
   "cell_type": "markdown",
   "id": "d34a9ffd",
   "metadata": {},
   "source": [
    "### Parole decisions based on Gender and Race:"
   ]
  },
  {
   "cell_type": "code",
   "execution_count": 25,
   "id": "c5364715",
   "metadata": {},
   "outputs": [
    {
     "data": {
      "image/png": "[encoded data removed]",
      "text/plain": [
       "<Figure size 720x432 with 1 Axes>"
      ]
     },
     "metadata": {
      "needs_background": "light"
     },
     "output_type": "display_data"
    },
    {
     "data": {
      "image/png": "[encoded data removed]",
      "text/plain": [
       "<Figure size 720x432 with 1 Axes>"
      ]
     },
     "metadata": {
      "needs_background": "light"
     },
     "output_type": "display_data"
    }
   ],
   "source": [
    "df_cross=pd.crosstab(dff['Parole_Decision'],dff['Gender'])\n",
    "df_cross.div(df_cross.sum(1).astype(float), axis = 0).plot.bar(stacked = False,figsize = (10, 6))\n",
    "plt.title('Gender vs Parole Decision', fontweight = 10, fontsize = 10)\n",
    "plt.legend(bbox_to_anchor=(1,0.5),)\n",
    "plt.xticks(rotation = 0,fontsize=12)\n",
    "plt.yticks(fontsize=12)\n",
    "\n",
    "\n",
    "df_cross=pd.crosstab(dff['Parole_Decision'],dff['Race'])\n",
    "df_cross.div(df_cross.sum(1).astype(float), axis = 0).plot.bar(stacked = False,figsize = (10, 6))\n",
    "plt.title('Race vs Parole Decision', fontweight = 10, fontsize = 10)\n",
    "plt.legend(bbox_to_anchor=(1,0.5),)\n",
    "plt.xticks(rotation = 0,fontsize=12)\n",
    "plt.yticks(fontsize=12)\n",
    "plt.show()"
   ]
  },
  {
   "cell_type": "code",
   "execution_count": 26,
   "id": "98ebf0fb",
   "metadata": {},
   "outputs": [],
   "source": [
    "paroles_by_year=dff.groupby(['Parole_Decision','Decision_Year','Decision_Month']).size().to_frame()\n",
    "paroles_by_year=paroles_by_year.rename(columns={0: \"Count of Paroles\"})\n",
    "paroles_by_year=paroles_by_year.reset_index()"
   ]
  },
  {
   "cell_type": "code",
   "execution_count": 27,
   "id": "b4ff5e94",
   "metadata": {},
   "outputs": [
    {
     "data": {
      "text/html": [
       "<div>\n",
       "<style scoped>\n",
       "    .dataframe tbody tr th:only-of-type {\n",
       "        vertical-align: middle;\n",
       "    }\n",
       "\n",
       "    .dataframe tbody tr th {\n",
       "        vertical-align: top;\n",
       "    }\n",
       "\n",
       "    .dataframe thead th {\n",
       "        text-align: right;\n",
       "    }\n",
       "</style>\n",
       "<table border=\"1\" class=\"dataframe\">\n",
       "  <thead>\n",
       "    <tr style=\"text-align: right;\">\n",
       "      <th></th>\n",
       "      <th>Parole_Decision</th>\n",
       "      <th>Decision_Year</th>\n",
       "      <th>Decision_Month</th>\n",
       "      <th>Count of Paroles</th>\n",
       "    </tr>\n",
       "  </thead>\n",
       "  <tbody>\n",
       "    <tr>\n",
       "      <th>0</th>\n",
       "      <td>Approved</td>\n",
       "      <td>2018.0</td>\n",
       "      <td>3.0</td>\n",
       "      <td>1</td>\n",
       "    </tr>\n",
       "    <tr>\n",
       "      <th>1</th>\n",
       "      <td>Approved</td>\n",
       "      <td>2019.0</td>\n",
       "      <td>6.0</td>\n",
       "      <td>2</td>\n",
       "    </tr>\n",
       "    <tr>\n",
       "      <th>2</th>\n",
       "      <td>Approved</td>\n",
       "      <td>2019.0</td>\n",
       "      <td>7.0</td>\n",
       "      <td>1</td>\n",
       "    </tr>\n",
       "    <tr>\n",
       "      <th>3</th>\n",
       "      <td>Approved</td>\n",
       "      <td>2019.0</td>\n",
       "      <td>8.0</td>\n",
       "      <td>2</td>\n",
       "    </tr>\n",
       "    <tr>\n",
       "      <th>4</th>\n",
       "      <td>Approved</td>\n",
       "      <td>2019.0</td>\n",
       "      <td>9.0</td>\n",
       "      <td>5</td>\n",
       "    </tr>\n",
       "    <tr>\n",
       "      <th>...</th>\n",
       "      <td>...</td>\n",
       "      <td>...</td>\n",
       "      <td>...</td>\n",
       "      <td>...</td>\n",
       "    </tr>\n",
       "    <tr>\n",
       "      <th>306</th>\n",
       "      <td>Denied</td>\n",
       "      <td>2021.0</td>\n",
       "      <td>9.0</td>\n",
       "      <td>3115</td>\n",
       "    </tr>\n",
       "    <tr>\n",
       "      <th>307</th>\n",
       "      <td>Denied</td>\n",
       "      <td>2021.0</td>\n",
       "      <td>10.0</td>\n",
       "      <td>3237</td>\n",
       "    </tr>\n",
       "    <tr>\n",
       "      <th>308</th>\n",
       "      <td>Denied</td>\n",
       "      <td>2021.0</td>\n",
       "      <td>11.0</td>\n",
       "      <td>3208</td>\n",
       "    </tr>\n",
       "    <tr>\n",
       "      <th>309</th>\n",
       "      <td>Denied</td>\n",
       "      <td>2021.0</td>\n",
       "      <td>12.0</td>\n",
       "      <td>2795</td>\n",
       "    </tr>\n",
       "    <tr>\n",
       "      <th>310</th>\n",
       "      <td>Denied</td>\n",
       "      <td>2022.0</td>\n",
       "      <td>1.0</td>\n",
       "      <td>2778</td>\n",
       "    </tr>\n",
       "  </tbody>\n",
       "</table>\n",
       "<p>311 rows × 4 columns</p>\n",
       "</div>"
      ],
      "text/plain": [
       "    Parole_Decision  Decision_Year  Decision_Month  Count of Paroles\n",
       "0          Approved         2018.0             3.0                 1\n",
       "1          Approved         2019.0             6.0                 2\n",
       "2          Approved         2019.0             7.0                 1\n",
       "3          Approved         2019.0             8.0                 2\n",
       "4          Approved         2019.0             9.0                 5\n",
       "..              ...            ...             ...               ...\n",
       "306          Denied         2021.0             9.0              3115\n",
       "307          Denied         2021.0            10.0              3237\n",
       "308          Denied         2021.0            11.0              3208\n",
       "309          Denied         2021.0            12.0              2795\n",
       "310          Denied         2022.0             1.0              2778\n",
       "\n",
       "[311 rows x 4 columns]"
      ]
     },
     "execution_count": 27,
     "metadata": {},
     "output_type": "execute_result"
    }
   ],
   "source": [
    "paroles_by_year"
   ]
  },
  {
   "cell_type": "markdown",
   "id": "d38d21da",
   "metadata": {},
   "source": [
    "### Count of approved and denied paroles by year:"
   ]
  },
  {
   "cell_type": "code",
   "execution_count": 28,
   "id": "57ffb9fd",
   "metadata": {},
   "outputs": [
    {
     "data": {
      "image/png": "[encoded data removed]",
      "text/plain": [
       "<Figure size 1296x720 with 1 Axes>"
      ]
     },
     "metadata": {
      "needs_background": "light"
     },
     "output_type": "display_data"
    }
   ],
   "source": [
    "plt.figure(figsize=(18,10))\n",
    "plot = sns.lineplot(x=paroles_by_year['Decision_Year'],y=paroles_by_year['Count of Paroles'],hue=paroles_by_year[\"Parole_Decision\"],marker='o', data=paroles_by_year)\n",
    "plot.legend(loc='upper right', bbox_to_anchor=(1.2, 1),fontsize=14)\n",
    "plt.title('Count of Approved and Denied Paroles by Year')\n",
    "plt.xlabel(\"Year\", size=15)\n",
    "plt.ylabel(\"Paroles\", size=15)\n",
    "plt.show()"
   ]
  },
  {
   "cell_type": "markdown",
   "id": "44c1d7be",
   "metadata": {},
   "source": [
    "This line plot shows the relation between number of paroles accepted and denied throughout the years."
   ]
  }
 ],
 "metadata": {
  "kernelspec": {
   "display_name": "Python 3",
   "language": "python",
   "name": "python3"
  },
  "language_info": {
   "codemirror_mode": {
    "name": "ipython",
    "version": 3
   },
   "file_extension": ".py",
   "mimetype": "text/x-python",
   "name": "python",
   "nbconvert_exporter": "python",
   "pygments_lexer": "ipython3",
   "version": "3.8.8"
  }
 },
 "nbformat": 4,
 "nbformat_minor": 5
}
